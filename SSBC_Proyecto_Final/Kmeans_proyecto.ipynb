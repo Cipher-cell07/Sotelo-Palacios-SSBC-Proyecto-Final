{
  "nbformat": 4,
  "nbformat_minor": 0,
  "metadata": {
    "colab": {
      "provenance": [],
      "authorship_tag": "ABX9TyNn14y8qNoYg4OBqYGH1B5n",
      "include_colab_link": true
    },
    "kernelspec": {
      "name": "python3",
      "display_name": "Python 3"
    },
    "language_info": {
      "name": "python"
    }
  },
  "cells": [
    {
      "cell_type": "markdown",
      "metadata": {
        "id": "view-in-github",
        "colab_type": "text"
      },
      "source": [
        "<a href=\"https://colab.research.google.com/github/Alexgs9/Proyecto-final-Sem-Bas-En-Con/blob/main/Kmeans_proyecto.ipynb\" target=\"_parent\"><img src=\"https://colab.research.google.com/assets/colab-badge.svg\" alt=\"Open In Colab\"/></a>"
      ]
    },
    {
      "cell_type": "code",
      "execution_count": null,
      "metadata": {
        "id": "P5iJ5HVof-S9"
      },
      "outputs": [],
      "source": [
        "import pandas as pd\n",
        "import numpy as np\n",
        "from sklearn.model_selection import train_test_split\n",
        "from sklearn.preprocessing import StandardScaler, OneHotEncoder\n",
        "from sklearn.metrics import accuracy_score\n",
        "import matplotlib.pyplot as plt\n",
        "from sklearn.preprocessing import LabelEncoder\n",
        "from sklearn.metrics import silhouette_score"
      ]
    },
    {
      "cell_type": "code",
      "source": [
        "url = \"https://raw.githubusercontent.com/AliVGaribay/Proyecto-Final/main/Employee.csv\" #Employee\n",
        "#url = \"https://raw.githubusercontent.com/AliVGaribay/Proyecto-Final/main/heart.csv\" #heart\n",
        "#url = \"https://raw.githubusercontent.com/AliVGaribay/Proyecto-Final/main/zoo.csv\" #zoo\n",
        "\n",
        "dataset = pd.read_csv(url)"
      ],
      "metadata": {
        "id": "w7_L0kd7h2Y3"
      },
      "execution_count": null,
      "outputs": []
    },
    {
      "cell_type": "code",
      "source": [
        "def convertir_a_numericos(dataset):\n",
        "    # Crea una copia del conjunto de datos para evitar modificar el original\n",
        "    dataset_copia = dataset.copy()\n",
        "\n",
        "    # Itera sobre todas las columnas del conjunto de datos\n",
        "    for columna in dataset_copia.columns:\n",
        "        # Verifica si el tipo de datos de la columna es objeto (cadena u otro tipo no numérico)\n",
        "        if dataset_copia[columna].dtype == 'object':\n",
        "            # Utiliza LabelEncoder para convertir las etiquetas de texto a valores numéricos\n",
        "            label_encoder = LabelEncoder()\n",
        "            dataset_copia[columna] = label_encoder.fit_transform(dataset_copia[columna])\n",
        "\n",
        "    return dataset_copia\n",
        "\n",
        "dataset = convertir_a_numericos(dataset)"
      ],
      "metadata": {
        "id": "fIwaLHfQBbhJ"
      },
      "execution_count": null,
      "outputs": []
    },
    {
      "cell_type": "code",
      "source": [
        "def crear_copia_sin_clase(dataset):\n",
        "    # Crea una copia del conjunto de datos sin la última columna (variable objetivo)\n",
        "    dataset_copia_sin_clase = dataset.iloc[:, :-1].copy()\n",
        "    return dataset_copia_sin_clase\n",
        "\n",
        "# Crea una copia del dataset sin la última columna\n",
        "dataset_copia_sin_clase = crear_copia_sin_clase(dataset)"
      ],
      "metadata": {
        "id": "iwrJ95IQCxX4"
      },
      "execution_count": null,
      "outputs": []
    },
    {
      "cell_type": "code",
      "source": [
        "def normalizar_atributos(dataset):\n",
        "    # Selecciona todas las columnas excepto la última (asumiendo que la última es la variable objetivo)\n",
        "    atributos = dataset.iloc[:, :-1].values\n",
        "\n",
        "    # Utiliza StandardScaler para normalizar los atributos\n",
        "    scaler = StandardScaler()\n",
        "    atributos_normalizados = scaler.fit_transform(atributos)\n",
        "\n",
        "    # Reemplaza las columnas originales con las versiones normalizadas\n",
        "    for i in range(atributos_normalizados.shape[1]):\n",
        "        nombre_columna = dataset.columns[i]\n",
        "        dataset[nombre_columna] = atributos_normalizados[:, i]\n",
        "\n",
        "    return dataset\n",
        "\n",
        "    dataset = normalizar_atributos(dataset)"
      ],
      "metadata": {
        "id": "I_mW6nqeCIvn"
      },
      "execution_count": null,
      "outputs": []
    },
    {
      "cell_type": "code",
      "source": [
        "silhouette = 0"
      ],
      "metadata": {
        "id": "5ubxIciuerRS"
      },
      "execution_count": null,
      "outputs": []
    },
    {
      "cell_type": "code",
      "source": [
        "def k_means(dataset, k, max_iter=100):\n",
        "    # Se denota que se usara la variable global para almacenar el resultado de la evaluacion de silhouette\n",
        "    global silhouette\n",
        "\n",
        "    # Se almacena los valores del dataset como una matriz para simplificar las operaciones\n",
        "    datos = dataset.values\n",
        "\n",
        "    # Seleccionar aleatoriamente k centroides iniciales\n",
        "    centroides = datos[np.random.choice(datos.shape[0], k, replace=False)]\n",
        "\n",
        "    for _ in range(max_iter):\n",
        "        # Calcular las distancias entre cada punto y cada centroide a modo de operacion de matrices, de ahi la segunda linea de la funcion\n",
        "        distancias = np.linalg.norm(datos[:, np.newaxis] - centroides, axis=2)\n",
        "\n",
        "        # Se asigna cada punto al clúster del centroide más cercano\n",
        "        asignaciones = np.argmin(distancias, axis=1)\n",
        "\n",
        "        # Se calculan los nuevos centroides\n",
        "        nuevos_centroides = np.array([datos[asignaciones == j].mean(axis=0) for j in range(k)])\n",
        "\n",
        "        # Se revisa si existe un cambio en los centroides, de lo contrario se termina la iteracion\n",
        "        if np.array_equal(centroides, nuevos_centroides):\n",
        "            break\n",
        "\n",
        "        centroides = nuevos_centroides\n",
        "\n",
        "    # Se realiza la evaluacion de silhouete\n",
        "    silhouette = silhouette_score(datos, asignaciones)\n",
        "\n",
        "    return centroides, asignaciones"
      ],
      "metadata": {
        "id": "eDGSO7bXGZqz"
      },
      "execution_count": null,
      "outputs": []
    },
    {
      "cell_type": "code",
      "source": [
        "def plot_resultado(dataset, centroides, asignaciones):\n",
        "    clases_unicas = dataset.iloc[:, -1].unique()\n",
        "    colores_cluster = plt.cm.viridis(np.linspace(0, 1, len(np.unique(asignaciones))))\n",
        "\n",
        "    fig, ax = plt.subplots(figsize=(10, 6))\n",
        "\n",
        "    for i, clase in enumerate(clases_unicas):\n",
        "        # Filtrar los datos por clase\n",
        "        datos_clase = dataset[dataset.iloc[:, -1] == clase]\n",
        "\n",
        "        # Obtener índices de los puntos en la clase actual\n",
        "        indices_clase = datos_clase.index\n",
        "\n",
        "        # Plotear puntos en la clase actual con colores distintos para cada clúster\n",
        "        for j, indice in enumerate(indices_clase):\n",
        "            color = colores_cluster[asignaciones[indice]]\n",
        "            ax.scatter(\n",
        "                j,  # Número de instancia en el eje x\n",
        "                i,  # Clase en el eje y\n",
        "                color=color,\n",
        "                edgecolors=color,\n",
        "                s=100,  # Tamaño del punto\n",
        "                linewidth=1,  # Grosor del borde\n",
        "                label=f'Cluster {asignaciones[indice]}' if j == 0 else \"\"\n",
        "            )\n",
        "\n",
        "    # Ajustar las etiquetas y leyenda\n",
        "    ax.set_xticks(range(len(dataset)))\n",
        "    ax.set_xticklabels(range(1, len(dataset) + 1))\n",
        "    ax.set_yticks(range(len(clases_unicas)))\n",
        "    ax.set_yticklabels(clases_unicas)\n",
        "    ax.set_xlabel('Número de Instancia')\n",
        "    ax.set_ylabel('Clase')\n",
        "    ax.legend()\n",
        "\n",
        "    plt.title('Clase y Cluster Plot')\n",
        "    plt.show()"
      ],
      "metadata": {
        "id": "yR52tuT4jvTU"
      },
      "execution_count": null,
      "outputs": []
    },
    {
      "cell_type": "code",
      "source": [
        "centroides, asignaciones = k_means(dataset_copia_sin_clase, 2)"
      ],
      "metadata": {
        "id": "-8VK1qxBG0Mc"
      },
      "execution_count": null,
      "outputs": []
    },
    {
      "cell_type": "code",
      "source": [
        "print(f\"{silhouette}\")"
      ],
      "metadata": {
        "colab": {
          "base_uri": "https://localhost:8080/"
        },
        "id": "X5ez2fG_d0a3",
        "outputId": "e62fed66-f0ca-42d7-8108-78266c0c656f"
      },
      "execution_count": null,
      "outputs": [
        {
          "output_type": "stream",
          "name": "stdout",
          "text": [
            "0.5310323132765913\n"
          ]
        }
      ]
    },
    {
      "cell_type": "code",
      "source": [
        "plot_resultado(dataset, centroides, asignaciones)"
      ],
      "metadata": {
        "colab": {
          "base_uri": "https://localhost:8080/",
          "height": 564
        },
        "id": "47Yzra4WjzB5",
        "outputId": "14aa7685-5d9a-42ae-c97c-d247612d18aa"
      },
      "execution_count": null,
      "outputs": [
        {
          "output_type": "display_data",
          "data": {
            "text/plain": [
              "<Figure size 1000x600 with 1 Axes>"
            ],
            "image/png": "[encoded data removed]"
          },
          "metadata": {}
        }
      ]
    }
  ]
}