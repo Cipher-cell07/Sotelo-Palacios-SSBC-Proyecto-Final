{
  "nbformat": 4,
  "nbformat_minor": 0,
  "metadata": {
    "colab": {
      "provenance": [],
      "authorship_tag": "ABX9TyMU2aKgl7amjPmhQOOCZwod",
      "include_colab_link": true
    },
    "kernelspec": {
      "name": "python3",
      "display_name": "Python 3"
    },
    "language_info": {
      "name": "python"
    }
  },
  "cells": [
    {
      "cell_type": "markdown",
      "metadata": {
        "id": "view-in-github",
        "colab_type": "text"
      },
      "source": [
        "<a href=\"https://colab.research.google.com/github/Alexgs9/Proyecto-final-Sem-Bas-En-Con/blob/main/MLP_proyecto_final.ipynb\" target=\"_parent\"><img src=\"https://colab.research.google.com/assets/colab-badge.svg\" alt=\"Open In Colab\"/></a>"
      ]
    },
    {
      "cell_type": "code",
      "execution_count": 32,
      "metadata": {
        "id": "8YM4eYK3J7Qa"
      },
      "outputs": [],
      "source": [
        "import numpy as np\n",
        "import pandas as pd\n",
        "from sklearn.preprocessing import LabelEncoder\n",
        "from sklearn.model_selection import train_test_split\n",
        "from sklearn.metrics import classification_report\n",
        "import matplotlib.pyplot as plt\n",
        "\n",
        "url = \"https://raw.githubusercontent.com/Alexgs9/Proyecto-final-Sem-Bas-En-Con/main/heart.csv\"  # heart\n",
        "dataset = pd.read_csv(url)"
      ]
    },
    {
      "cell_type": "code",
      "source": [
        "def convertir_a_numericos(dataset):\n",
        "    # Crea una copia del conjunto de datos para evitar modificar el original\n",
        "    dataset_copia = dataset.copy()\n",
        "\n",
        "    # Itera sobre todas las columnas del conjunto de datos\n",
        "    for columna in dataset_copia.columns:\n",
        "        # Verifica si el tipo de datos de la columna es objeto (cadena u otro tipo no numérico)\n",
        "        if dataset_copia[columna].dtype == 'object':\n",
        "            # Utiliza LabelEncoder para convertir las etiquetas de texto a valores numéricos\n",
        "            label_encoder = LabelEncoder()\n",
        "            dataset_copia[columna] = label_encoder.fit_transform(dataset_copia[columna])\n",
        "\n",
        "    return dataset_copia"
      ],
      "metadata": {
        "id": "_azf4uYqrk8L"
      },
      "execution_count": 33,
      "outputs": []
    },
    {
      "cell_type": "code",
      "source": [
        "def dividir(X, y, test_size=0.2, random_state=42):\n",
        "    # Divide el conjunto de datos en entrenamiento y prueba\n",
        "    X_train, X_test, y_train, y_test = train_test_split(X, y, test_size=test_size, random_state=random_state)\n",
        "    return X_train, X_test, y_train, y_test"
      ],
      "metadata": {
        "id": "fdzUFmYUrrpO"
      },
      "execution_count": 34,
      "outputs": []
    },
    {
      "cell_type": "code",
      "source": [
        "def sigmoide(x):\n",
        "    return 1 / (1 + np.exp(-x))\n",
        "\n",
        "def derivada(x):\n",
        "    return x * (1 - x)\n",
        "\n",
        "def binary_cross_entropy_loss(y_true, y_pred):\n",
        "    epsilon = 1e-15\n",
        "    y_pred = np.clip(y_pred, epsilon, 1 - epsilon)\n",
        "    return -(y_true * np.log(y_pred) + (1 - y_true) * np.log(1 - y_pred)).mean()"
      ],
      "metadata": {
        "id": "U01Z4HURr2Ym"
      },
      "execution_count": 35,
      "outputs": []
    },
    {
      "cell_type": "code",
      "source": [
        "def inicializar_pesos(input_size, hidden_layer_size, output_size):\n",
        "    np.random.seed(42)\n",
        "    weights = {\n",
        "        'W1': np.random.rand(input_size, hidden_layer_size),\n",
        "        'b1': np.zeros((1, hidden_layer_size)),\n",
        "        'W2': np.random.rand(hidden_layer_size, output_size),\n",
        "        'b2': np.zeros((1, output_size))\n",
        "    }\n",
        "    return weights\n",
        "\n",
        "def predecir(X, weights):\n",
        "    layer1_output = sigmoide(np.dot(X, weights['W1']) + weights['b1'])\n",
        "    output = sigmoide(np.dot(layer1_output, weights['W2']) + weights['b2'])\n",
        "    return np.round(output).astype(int)\n",
        "\n",
        "def entrenar(X, y, epochs=10000, learning_rate=0.1):\n",
        "    input_size = X.shape[1]\n",
        "    hidden_layer_size = 2\n",
        "    output_size = 1\n",
        "\n",
        "    weights = inicializar_pesos(input_size, hidden_layer_size, output_size)\n",
        "\n",
        "    for epoch in range(epochs):\n",
        "        # Propagación hacia adelante\n",
        "        layer1_output = sigmoide(np.dot(X, weights['W1']) + weights['b1'])\n",
        "        output = sigmoide(np.dot(layer1_output, weights['W2']) + weights['b2'])\n",
        "\n",
        "        # Calcular la pérdida\n",
        "        loss = binary_cross_entropy_loss(y, output)\n",
        "\n",
        "        # Retropropagación\n",
        "        output_error = y - output\n",
        "        output_delta = output_error * derivada(output)\n",
        "\n",
        "        layer1_error = output_delta.dot(weights['W2'].T)\n",
        "        layer1_delta = layer1_error * derivada(layer1_output)\n",
        "\n",
        "        # Actualizar pesos y sesgos utilizando descenso de gradiente\n",
        "        weights['W2'] += layer1_output.T.dot(output_delta) * learning_rate\n",
        "        weights['b2'] += np.sum(output_delta, axis=0, keepdims=True) * learning_rate\n",
        "        weights['W1'] += X.T.dot(layer1_delta) * learning_rate\n",
        "        weights['b1'] += np.sum(layer1_delta, axis=0, keepdims=True) * learning_rate\n",
        "\n",
        "        if epoch % 1000 == 0:\n",
        "            print(f'Época {epoch}, Pérdida: {loss}')\n",
        "\n",
        "    return weights"
      ],
      "metadata": {
        "id": "tAHS8Y32sE4h"
      },
      "execution_count": 36,
      "outputs": []
    },
    {
      "cell_type": "code",
      "source": [
        "# Preprocesamiento de los datos\n",
        "\n",
        "# Convertir a numericos\n",
        "dataset = convertir_a_numericos(dataset);\n",
        "\n",
        "# Dividir en atributos y clase\n",
        "X = dataset.iloc[:, :-1].values\n",
        "Y = dataset.iloc[:, -1].values.reshape(-1, 1)\n",
        "\n",
        "# Dividir en entrenamiento y pruebas\n",
        "X_train, X_test, Y_train, Y_test = dividir(X,Y);"
      ],
      "metadata": {
        "id": "S8AULZoO1lwX"
      },
      "execution_count": 37,
      "outputs": []
    },
    {
      "cell_type": "code",
      "source": [
        "# Obtencion de los pesos del entrenamiento\n",
        "pesos = entrenar(X_train, Y_train)\n",
        "\n",
        "# Calcular predicciones\n",
        "predicciones = predecir(X_test, pesos)\n",
        "\n",
        "# Calcular la precisión en las pruebas\n",
        "accuracy_test = np.sum(predicciones == Y_test) / len(Y_test)\n",
        "print(f'Precisión para MLP en el conjunto de prueba {accuracy_test}')\n",
        "\n",
        "# Calcular el informe de clasificación que incluye precisión, recall, etc\n",
        "informe = classification_report(Y_test, predicciones, zero_division=1)\n",
        "# Imprimir el informe de clasificación\n",
        "print(\"\\nInforme:\")\n",
        "print(informe)"
      ],
      "metadata": {
        "colab": {
          "base_uri": "https://localhost:8080/"
        },
        "id": "wiGltZT8s36m",
        "outputId": "d26347f5-5ca6-4c9a-9fac-6a392b6aede7"
      },
      "execution_count": 38,
      "outputs": [
        {
          "output_type": "stream",
          "name": "stdout",
          "text": [
            "Época 0, Pérdida: 0.7201462442458674\n",
            "Época 1000, Pérdida: 0.6984506106905676\n",
            "Época 2000, Pérdida: 0.6992563131571352\n",
            "Época 3000, Pérdida: 0.7790610913133168\n",
            "Época 4000, Pérdida: 0.7442580881717266\n",
            "Época 5000, Pérdida: 0.6960260888950851\n",
            "Época 6000, Pérdida: 0.7702316205277367\n",
            "Época 7000, Pérdida: 0.698350574532332\n",
            "Época 8000, Pérdida: 0.7625497843286254\n",
            "Época 9000, Pérdida: 0.7028407269020106\n",
            "Precisión para MLP en el conjunto de prueba 0.5245901639344263\n",
            "\n",
            "Informe:\n",
            "              precision    recall  f1-score   support\n",
            "\n",
            "           0       1.00      0.00      0.00        29\n",
            "           1       0.52      1.00      0.69        32\n",
            "\n",
            "    accuracy                           0.52        61\n",
            "   macro avg       0.76      0.50      0.34        61\n",
            "weighted avg       0.75      0.52      0.36        61\n",
            "\n"
          ]
        }
      ]
    },
    {
      "cell_type": "code",
      "source": [
        "# Gráfico de la clase esperada vs la clase predicha\n",
        "plt.scatter(range(len(Y_test)), predicciones, c=Y_test, cmap='viridis', edgecolors='none')\n",
        "plt.xlabel('Número de Instancia')\n",
        "plt.ylabel('Clase Predicha')\n",
        "plt.title('Clase Esperada vs Clase Predicha')\n",
        "plt.colorbar(label='Clase Esperada')\n",
        "plt.show()"
      ],
      "metadata": {
        "colab": {
          "base_uri": "https://localhost:8080/",
          "height": 472
        },
        "id": "JbdEG9ED9ZjW",
        "outputId": "82a7e2a2-76e1-4bd4-8e5c-efb051d65ed0"
      },
      "execution_count": 40,
      "outputs": [
        {
          "output_type": "display_data",
          "data": {
            "text/plain": [
              "<Figure size 640x480 with 2 Axes>"
            ],
            "image/png": "[encoded data removed]"
          },
          "metadata": {}
        }
      ]
    }
  ]
}